{
 "cells": [
  {
   "cell_type": "markdown",
   "metadata": {},
   "source": [
    "# Ejercicio 1\n",
    "## Odd or even\n"
   ]
  },
  {
   "cell_type": "code",
   "execution_count": null,
   "metadata": {},
   "outputs": [],
   "source": [
    "numero = int(input(\"Escribe un numero del 1 al 1000: \"))\n",
    "print(numero)\n",
    "if numero % 2 == 0:\n",
    "    print(\"Es un numero par\")\n",
    "else:\n",
    "    print(\"Es un numero impar\")"
   ]
  },
  {
   "cell_type": "markdown",
   "metadata": {},
   "source": [
    "# Ejercicio 2\n",
    "## Mad libs game\n"
   ]
  },
  {
   "cell_type": "code",
   "execution_count": null,
   "metadata": {},
   "outputs": [],
   "source": [
    "nombre = input(\"Escribe un nombre\")\n",
    "color = input(\"Escribe un color\")\n",
    "animal = input(\"Escribe un animal\")\n",
    "print(\"Había una vez una persona que no se esperaba la aventura que iba a vivir ese gran dia, el nombre de esa persona era \"+ nombre \n",
    "+\" sin duda no esperaba que cuando despertará se encontraria en un lugar irreconocible, el cielo era de color \"+ color +\n",
    "\" todo era muy raro pero por fortuna no tendria que pasar por este cambio en soledad, su fiel mascota, un \"+ animal +\" se quedaria a su lado.\")"
   ]
  },
  {
   "cell_type": "markdown",
   "metadata": {},
   "source": [
    "# Ejercicio 3\n",
    "## Word count\n",
    "\n"
   ]
  },
  {
   "cell_type": "code",
   "execution_count": null,
   "metadata": {},
   "outputs": [],
   "source": [
    "contador_palabras = len(input(\"¿En que estas pensando?\").split())\n",
    "print(\"Wow, que interesante, fueron\", contador_palabras ,\n",
    "\"palabras lo que estas pensando\")"
   ]
  },
  {
   "cell_type": "markdown",
   "metadata": {},
   "source": [
    "# Ejercicio 4\n",
    "## Biography info"
   ]
  },
  {
   "cell_type": "code",
   "execution_count": null,
   "metadata": {},
   "outputs": [],
   "source": [
    "import re\n",
    "\n",
    "nombre = input(\"Ingrese su nombre:\")\n",
    "if not nombre == re.compile(\"[^0-9a-zA-Z, ]+\"):\n",
    "    print(\"Solo se permiten letras\")\n",
    "    nombre = input(\"Ingrese su nombre:\")\n",
    "\n",
    "fecha_nacimiento = input(\"Escribe tu fecha de nacimiento:\")\n",
    "if not fecha_nacimiento == re.compile(\"[^0-9a-zA-Z, ]+\"):\n",
    "    print(\"Solo se permiten letras y numero\")\n",
    "    fecha_nacimiento = input(\"Escribe tu fecha de nacimiento:\")\n",
    "\n",
    "direccion = input(\"Escribe tu direccion:\")\n",
    "if not direccion == re.compile(\"[^0-9a-zA-Z, ]+\"):\n",
    "    print(\"Solo se permiten letras y numeros\")\n",
    "    direccion = input(\"Escribe tu direccion:\")\n",
    "\n",
    "metas_personales = input(\"Escribe tu metas personales:\")\n",
    "if not metas_personales == re.compile(\"[^0-9a-zA-Z, ]+\"):\n",
    "    print(\"Solo se permiten letras\")\n",
    "    metas_personales = input(\"Escribe tu metas personales:\")\n",
    "\n",
    "print(\"Primer nombre: \" + nombre)\n",
    "print(\"Fecha de nacimiento: \" + fecha_nacimiento)\n",
    "print(\"Direccion: \" + direccion)\n",
    "print(\"Metas personales: \" + metas_personales)"
   ]
  },
  {
   "cell_type": "markdown",
   "metadata": {},
   "source": [
    "# Ejercicio 5\n",
    "## What's my acronym?"
   ]
  },
  {
   "cell_type": "code",
   "execution_count": null,
   "metadata": {},
   "outputs": [],
   "source": [
    "texto = input(\"Ingrese un nombre o concepto: \")\n",
    "palabra = texto.split()\n",
    "siglas = \"\"\n",
    "for i in palabra:\n",
    "        siglas = siglas + (i[0]).upper()\n",
    "\n",
    "print(\"El acronimo de\",texto,\"es\",siglas)"
   ]
  },
  {
   "cell_type": "markdown",
   "metadata": {},
   "source": [
    "# Ejercicio 6\n",
    "## Rock, Paper, Scissor"
   ]
  },
  {
   "cell_type": "code",
   "execution_count": null,
   "metadata": {},
   "outputs": [],
   "source": [
    "\n",
    "from random import randint\n",
    "\n",
    "eleccion = [\"Piedra\",\"Papel\",\"Tijera\"]\n",
    "\n",
    "def main():\n",
    "    computadora = eleccion[randint(0,2)]\n",
    "\n",
    "    print(\"Juego de piedra, papel y tijeras\")\n",
    "    jugador = input(\"¿Que escoges? Piedra, Papel, Tijeras\"+\n",
    "    \" o Finalizo: \").lower()\n",
    "    print(\"Eleccion de la computadora: \" + computadora)\n",
    "        \n",
    "    if jugador == computadora:\n",
    "                print(\"Empate\")\n",
    "    elif jugador == \"Piedra\" and computadora == \"Papel\":\n",
    "                print(\"computadora Gana\")\n",
    "    elif jugador == \"Piedra\" and computadora == \"Tijeras\":\n",
    "                print(\"jugador Gana\")\n",
    "    elif jugador == \"Papel\" and computadora == \"Piedra\":\n",
    "                print(\"computadora Gana\")\n",
    "    elif jugador == \"Papel\" and computadora == \"Tijeras\":\n",
    "                print(\"computadora Gana\")\n",
    "    elif jugador == \"Tijeras\" and computadora  == \"Piedra\":\n",
    "                print(\"computadora Gana\")\n",
    "    elif jugador == \"Tijeras\" and computadora == \"Papel\":\n",
    "                print(\"jugador Gana\")\n",
    "    elif jugador == \"Finalizo\":\n",
    "                StopIteration\n",
    "\n",
    "    \n",
    "    main()\n",
    "\n",
    "main()"
   ]
  },
  {
   "cell_type": "markdown",
   "metadata": {},
   "source": [
    "# Ejercicio 7\n",
    "## Guess the number"
   ]
  },
  {
   "cell_type": "code",
   "execution_count": null,
   "metadata": {},
   "outputs": [],
   "source": [
    "import random\n",
    "\n",
    "numero = random.randrange(1,50)\n",
    "adivina = int(input(\"Adivina un numero entre 1 y 50:\"))\n",
    "while adivina !=numero:\n",
    "    if adivina < numero:\n",
    "        print(\"Necesitas adivinar mas alto, trata de nuevo.\") \n",
    "        adivina = int(input(\"Adivina un numero entre 1 y 50:\"))\n",
    "    else:\n",
    "        print(\"Necesitas adivinar mas bajo, trata de nuevo.\")\n",
    "        adivina = int(input(\"Adivina un numero entre 1 y 50:\"))\n",
    "\n",
    "print(\"Adivinaste el numero correctamente\")"
   ]
  },
  {
   "cell_type": "markdown",
   "metadata": {},
   "source": [
    "# Ejercicio 8\n",
    "## Is a palindrome"
   ]
  },
  {
   "cell_type": "code",
   "execution_count": null,
   "metadata": {},
   "outputs": [],
   "source": [
    "palabra = input(\"Escriba una palabra:\")\n",
    "\n",
    "invertida = palabra[:: - 1]\n",
    "\n",
    "if invertida == palabra:\n",
    "    print(\"La palabra\",palabra,\"es un palindromo\")\n",
    "else:\n",
    "    print(\"La palabra\",palabra,\"no es un palindromo\")\n"
   ]
  },
  {
   "cell_type": "markdown",
   "metadata": {},
   "source": [
    "# Ejercicio 9\n",
    "## Calculate the tip"
   ]
  },
  {
   "cell_type": "code",
   "execution_count": null,
   "metadata": {},
   "outputs": [],
   "source": [
    "subtotal = float(input(\"¿Cuanto fue el total de su compra?\"))\n",
    "print(\"¿Cuanta propina quiere dar por el servicio?\")\n",
    "tip = int(input(\"1. 18%\\n2. 20%\\n3. 25%\"))\n",
    "if tip == 1:\n",
    "    total = subtotal*1.18\n",
    "    propina = subtotal *.18\n",
    "    print(\"La propina fue de: \",propina ,\" y el total de: \", total)\n",
    "elif tip == 2:\n",
    "    total = subtotal*1.20 \n",
    "    propina = subtotal *.20  \n",
    "    print(\"La propina fue de: \",propina ,\" y el total de: \", total)\n",
    "elif tip == 3:\n",
    "    total = subtotal*1.25\n",
    "    propina = subtotal *.25\n",
    "    print(\"La propina fue de: \",propina ,\" y el total de: \", total)\n",
    "else:\n",
    "    print(\"Ingrese una de las opciones proporcionadas\")\n",
    "    tip = input(\"1. 18%\\n2. 20%\\n3. 25%\")\n"
   ]
  },
  {
   "cell_type": "markdown",
   "metadata": {},
   "source": [
    "# Ejercicio 10\n",
    "## Email slicer"
   ]
  },
  {
   "cell_type": "code",
   "execution_count": null,
   "metadata": {},
   "outputs": [],
   "source": [
    "email = input(\"What is your email address?: \").strip()\n",
    "\n",
    "nom_usuario = email[:email.index(\"@\")]\n",
    "\n",
    "dominio = email[email.index(\"@\") + 1:]\n",
    "\n",
    "resultado = \"Tu nombre de usuario =  '{}' \\nTu dominio = '{}'\".format(nom_usuario,dominio)\n",
    "\n",
    "print(resultado)"
   ]
  },
  {
   "cell_type": "markdown",
   "metadata": {},
   "source": [
    "# Ejercicio 11\n",
    "## Lyrics generator"
   ]
  },
  {
   "cell_type": "code",
   "execution_count": null,
   "metadata": {},
   "outputs": [],
   "source": [
    "print(\"Bienvenido, por favor selecciona una cancion de este top 10:\\n 1. Fake Love by BTS\"\n",
    "\"\\n 2. =(Equal Sign) by j-hope \\n 3. Feeling Good by Michael Buble \\n 4. POP! by NAYEON\"+\n",
    "\"\\n 5. The Astronaunt by JIN \\n 6. Yet To Come by BTS \\n 7. Outro: Wings by BTS\"+\n",
    "\"\\n 8. Run BTS by BTS \\n 9. One day by Lovejoy \\n 10. Lover by Taylor Swift\")\n",
    "numero = int(input(\"Favor de ingresar el numero de la cancion que quiera seleccionar:\"))\n",
    "if numero == 1:\n",
    "    print(\"\\nSeleccionaste Fake Love by BTS\\n\")\n",
    "    print(\"--------Fake Love by BTS--------\\n Love you so bad, love you so bad 널 위해 예쁜 거짓을 빚어내\"+\n",
    "    \" Love you so mad, love you so mad 날 지워1 너의 인형이 되려 해 Love you so bad, love you so bad\"+\n",
    "    \" 널 위해 예쁜 거짓을 빚어내 Love you so mad, love you so mad 날 지워 너의 인형이 되려 해\")\n",
    "elif numero == 2:\n",
    "    print(\"\\nSeleccionaste =(Equal Sign) by j-hope\\n\")\n",
    "    print(\"--------=(Equal Sign) by j-hope--------\\n Hate'll paralyze your mind Gotta see the\"+\n",
    "    \"other side It costs ya nothin' to be kind Not so different you and I Lookin' for love in \"+\n",
    "    \"a different light Until we find that equal sign\")\n",
    "elif numero == 3:\n",
    "    print(\"\\nSeleccionaste Feeling Good by Michael Buble\\n\")\n",
    "    print(\"--------Feeling Good by Michael Buble--------\\n Stars when you shine You know how\"+\n",
    "    \"I feel Scent of the pine You know how I feel Oh, freedom is mine And I know how I feel\")\n",
    "elif numero == 4:\n",
    "    print(\"\\nSeleccionaste POP! by NAYEON\\n\")\n",
    "    print(\"--------POP! by NAYEON--------\\n 설렘이 멎기 전에 I wanna make it pop, pop, pop, you \"+\n",
    "    \" want it Pop, pop, pop, 터지길 원해 가슴이 뛰는 이 느낌 I wanna make it pop, pop, pop, you \"+\n",
    "    \" want it Pop, pop, pop, 널 갖길 원해\")\n",
    "elif numero == 5:\n",
    "    print(\"\\nSeleccionaste The Astronaunt by JIN\\n\")\n",
    "    print(\"--------The Astronaunt by JIN--------\\n When I’m with you There is no one else \"+\n",
    "    \"I get heaven to myself When I’m with you There is no one else I feel this way I’ve never felt...\")\n",
    "elif numero == 6:\n",
    "    print(\"\\nSeleccionaste Yet To Come by BTS\\n\")\n",
    "    print(\"--------Yet To Come by BTS--------\\n Yeah, the past was honestly the best But my \"+\n",
    "    \" best is what comes next I'm not playin', nah, for sure 그날을 향해 숨이 벅차게 You and \"+\n",
    "    \" I, best moment is yet to come Moment is yet to come, yeah\")\n",
    "elif numero == 7:\n",
    "    print(\"\\nSeleccionaste Outro: Wings by BTS\\n\")\n",
    "    print(\"--------Outro: Wings by BTS--------\\n LTake me to the sky 훨훨 날아갈 수 있다면 \"+ \n",
    "    \"영영 달아날 수 있다면 If my wings could fly 점점 무거워지는 공기를 뚫고 날아\")\n",
    "elif numero == 8:\n",
    "    print(\"\\nSeleccionaste Run BTS by BTS\\n\")\n",
    "    print(\"--------Run BTS by BTS--------\\n 위로 got them (got them) 지조 got them (got them) \"+\n",
    "    \" Good music, got them (got them) Good team? Goddamn! (Oh yeah) You said you hot, \"+\n",
    "    \" oh man, you not 뛰는 놈 위에 나는 놈 위에 달리는 방탄 let's go\")\n",
    "elif numero == 9:\n",
    "    print(\"\\nSeleccionaste One day by Lovejoy\\n\")\n",
    "    print(\"--------One day by Lovejoy--------\\n Put some lights on in an empty pub A toilet\" +\n",
    "    \" with the seat left up It's closure like a deer in headlights One day, I know that \"+\n",
    "    \" you will be there\")\n",
    "elif numero == 10:\n",
    "    print(\"\\nSeleccionaste Lover by Taylor Swift\\n\")\n",
    "    print(\"--------Lover by Taylor Swift--------\\n Can I go where you go? Can we always \"+\n",
    "    \" be this close forever and ever? And ah, take me out, and take me home You're my,\"+\n",
    "    \" my, my, my Lover\")\n",
    "else:\n",
    "    print(\"Ingrese un numero de la lista\")\n"
   ]
  }
 ],
 "metadata": {
  "kernelspec": {
   "display_name": "Python 3.10.8 64-bit",
   "language": "python",
   "name": "python3"
  },
  "language_info": {
   "codemirror_mode": {
    "name": "ipython",
    "version": 3
   },
   "file_extension": ".py",
   "mimetype": "text/x-python",
   "name": "python",
   "nbconvert_exporter": "python",
   "pygments_lexer": "ipython3",
   "version": "3.10.8"
  },
  "orig_nbformat": 4,
  "vscode": {
   "interpreter": {
    "hash": "fb07922b0dfe1e71741fe8671583c7870e33666290a0f7da2138cef1e4374e25"
   }
  }
 },
 "nbformat": 4,
 "nbformat_minor": 2
}
